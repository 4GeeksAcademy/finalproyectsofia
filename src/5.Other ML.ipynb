{
 "cells": [
  {
   "cell_type": "code",
   "execution_count": 3,
   "metadata": {},
   "outputs": [
    {
     "data": {
      "text/html": [
       "<div>\n",
       "<style scoped>\n",
       "    .dataframe tbody tr th:only-of-type {\n",
       "        vertical-align: middle;\n",
       "    }\n",
       "\n",
       "    .dataframe tbody tr th {\n",
       "        vertical-align: top;\n",
       "    }\n",
       "\n",
       "    .dataframe thead th {\n",
       "        text-align: right;\n",
       "    }\n",
       "</style>\n",
       "<table border=\"1\" class=\"dataframe\">\n",
       "  <thead>\n",
       "    <tr style=\"text-align: right;\">\n",
       "      <th></th>\n",
       "      <th>Grave</th>\n",
       "      <th>Crm Cd</th>\n",
       "      <th>Vict Age</th>\n",
       "      <th>Vict Sex</th>\n",
       "      <th>Vict Descent</th>\n",
       "      <th>Premis Cd</th>\n",
       "      <th>Weapon Used Cd</th>\n",
       "      <th>Year</th>\n",
       "      <th>AREA</th>\n",
       "    </tr>\n",
       "  </thead>\n",
       "  <tbody>\n",
       "    <tr>\n",
       "      <th>0</th>\n",
       "      <td>0.858552</td>\n",
       "      <td>-0.817149</td>\n",
       "      <td>-0.143759</td>\n",
       "      <td>0.696255</td>\n",
       "      <td>-0.337672</td>\n",
       "      <td>-0.973566</td>\n",
       "      <td>0.160203</td>\n",
       "      <td>0.381802</td>\n",
       "      <td>4</td>\n",
       "    </tr>\n",
       "    <tr>\n",
       "      <th>1</th>\n",
       "      <td>-1.164751</td>\n",
       "      <td>2.056210</td>\n",
       "      <td>-0.330314</td>\n",
       "      <td>0.696255</td>\n",
       "      <td>-0.864074</td>\n",
       "      <td>0.421051</td>\n",
       "      <td>1.688179</td>\n",
       "      <td>0.598934</td>\n",
       "      <td>20</td>\n",
       "    </tr>\n",
       "    <tr>\n",
       "      <th>2</th>\n",
       "      <td>0.858552</td>\n",
       "      <td>0.044858</td>\n",
       "      <td>-1.403003</td>\n",
       "      <td>-1.825291</td>\n",
       "      <td>-1.390475</td>\n",
       "      <td>-0.973566</td>\n",
       "      <td>0.160203</td>\n",
       "      <td>0.381802</td>\n",
       "      <td>10</td>\n",
       "    </tr>\n",
       "    <tr>\n",
       "      <th>3</th>\n",
       "      <td>0.858552</td>\n",
       "      <td>-0.912928</td>\n",
       "      <td>-0.423591</td>\n",
       "      <td>1.957028</td>\n",
       "      <td>0.188730</td>\n",
       "      <td>-0.468539</td>\n",
       "      <td>0.160203</td>\n",
       "      <td>0.598934</td>\n",
       "      <td>3</td>\n",
       "    </tr>\n",
       "    <tr>\n",
       "      <th>4</th>\n",
       "      <td>0.858552</td>\n",
       "      <td>-0.386145</td>\n",
       "      <td>0.182711</td>\n",
       "      <td>-0.564518</td>\n",
       "      <td>0.715131</td>\n",
       "      <td>-0.973566</td>\n",
       "      <td>0.160203</td>\n",
       "      <td>0.381802</td>\n",
       "      <td>8</td>\n",
       "    </tr>\n",
       "  </tbody>\n",
       "</table>\n",
       "</div>"
      ],
      "text/plain": [
       "      Grave    Crm Cd  Vict Age  Vict Sex  Vict Descent  Premis Cd  \\\n",
       "0  0.858552 -0.817149 -0.143759  0.696255     -0.337672  -0.973566   \n",
       "1 -1.164751  2.056210 -0.330314  0.696255     -0.864074   0.421051   \n",
       "2  0.858552  0.044858 -1.403003 -1.825291     -1.390475  -0.973566   \n",
       "3  0.858552 -0.912928 -0.423591  1.957028      0.188730  -0.468539   \n",
       "4  0.858552 -0.386145  0.182711 -0.564518      0.715131  -0.973566   \n",
       "\n",
       "   Weapon Used Cd      Year  AREA  \n",
       "0        0.160203  0.381802     4  \n",
       "1        1.688179  0.598934    20  \n",
       "2        0.160203  0.381802    10  \n",
       "3        0.160203  0.598934     3  \n",
       "4        0.160203  0.381802     8  "
      ]
     },
     "execution_count": 3,
     "metadata": {},
     "output_type": "execute_result"
    }
   ],
   "source": [
    "import pandas as pd\n",
    "\n",
    "train_data = pd.read_csv(\"../data/processed/clean_train.csv\")\n",
    "test_data = pd.read_csv(\"../data/processed/clean_test.csv\")\n",
    "\n",
    "train_data.head()"
   ]
  },
  {
   "cell_type": "code",
   "execution_count": 4,
   "metadata": {},
   "outputs": [
    {
     "data": {
      "text/html": [
       "<div>\n",
       "<style scoped>\n",
       "    .dataframe tbody tr th:only-of-type {\n",
       "        vertical-align: middle;\n",
       "    }\n",
       "\n",
       "    .dataframe tbody tr th {\n",
       "        vertical-align: top;\n",
       "    }\n",
       "\n",
       "    .dataframe thead th {\n",
       "        text-align: right;\n",
       "    }\n",
       "</style>\n",
       "<table border=\"1\" class=\"dataframe\">\n",
       "  <thead>\n",
       "    <tr style=\"text-align: right;\">\n",
       "      <th></th>\n",
       "      <th>Grave</th>\n",
       "      <th>Crm Cd</th>\n",
       "      <th>Vict Age</th>\n",
       "      <th>Vict Sex</th>\n",
       "      <th>Vict Descent</th>\n",
       "      <th>Premis Cd</th>\n",
       "      <th>Weapon Used Cd</th>\n",
       "      <th>Year</th>\n",
       "    </tr>\n",
       "  </thead>\n",
       "  <tbody>\n",
       "    <tr>\n",
       "      <th>0</th>\n",
       "      <td>0.858552</td>\n",
       "      <td>0.044858</td>\n",
       "      <td>-1.403003</td>\n",
       "      <td>-1.825291</td>\n",
       "      <td>-1.390475</td>\n",
       "      <td>-0.973566</td>\n",
       "      <td>0.160203</td>\n",
       "      <td>-0.920993</td>\n",
       "    </tr>\n",
       "    <tr>\n",
       "      <th>1</th>\n",
       "      <td>0.858552</td>\n",
       "      <td>-0.386145</td>\n",
       "      <td>-1.403003</td>\n",
       "      <td>-1.825291</td>\n",
       "      <td>-1.390475</td>\n",
       "      <td>-0.973566</td>\n",
       "      <td>0.160203</td>\n",
       "      <td>0.816067</td>\n",
       "    </tr>\n",
       "    <tr>\n",
       "      <th>2</th>\n",
       "      <td>-1.164751</td>\n",
       "      <td>1.170257</td>\n",
       "      <td>0.928930</td>\n",
       "      <td>-0.564518</td>\n",
       "      <td>-0.864074</td>\n",
       "      <td>0.879746</td>\n",
       "      <td>0.160203</td>\n",
       "      <td>0.598934</td>\n",
       "    </tr>\n",
       "    <tr>\n",
       "      <th>3</th>\n",
       "      <td>-1.164751</td>\n",
       "      <td>1.146313</td>\n",
       "      <td>-0.983255</td>\n",
       "      <td>0.696255</td>\n",
       "      <td>0.715131</td>\n",
       "      <td>-0.973566</td>\n",
       "      <td>0.160203</td>\n",
       "      <td>-2.006655</td>\n",
       "    </tr>\n",
       "    <tr>\n",
       "      <th>4</th>\n",
       "      <td>0.858552</td>\n",
       "      <td>-0.386145</td>\n",
       "      <td>-1.403003</td>\n",
       "      <td>-1.825291</td>\n",
       "      <td>-1.390475</td>\n",
       "      <td>-0.973566</td>\n",
       "      <td>0.160203</td>\n",
       "      <td>0.816067</td>\n",
       "    </tr>\n",
       "  </tbody>\n",
       "</table>\n",
       "</div>"
      ],
      "text/plain": [
       "      Grave    Crm Cd  Vict Age  Vict Sex  Vict Descent  Premis Cd  \\\n",
       "0  0.858552  0.044858 -1.403003 -1.825291     -1.390475  -0.973566   \n",
       "1  0.858552 -0.386145 -1.403003 -1.825291     -1.390475  -0.973566   \n",
       "2 -1.164751  1.170257  0.928930 -0.564518     -0.864074   0.879746   \n",
       "3 -1.164751  1.146313 -0.983255  0.696255      0.715131  -0.973566   \n",
       "4  0.858552 -0.386145 -1.403003 -1.825291     -1.390475  -0.973566   \n",
       "\n",
       "   Weapon Used Cd      Year  \n",
       "0        0.160203 -0.920993  \n",
       "1        0.160203  0.816067  \n",
       "2        0.160203  0.598934  \n",
       "3        0.160203 -2.006655  \n",
       "4        0.160203  0.816067  "
      ]
     },
     "execution_count": 4,
     "metadata": {},
     "output_type": "execute_result"
    }
   ],
   "source": [
    "X_train = train_data.drop([\"AREA\"], axis = 1)\n",
    "y_train = train_data[\"AREA\"]\n",
    "X_test = test_data.drop([\"AREA\"], axis = 1)\n",
    "y_test = test_data[\"AREA\"]\n",
    "X_test.head(5)"
   ]
  },
  {
   "cell_type": "code",
   "execution_count": 5,
   "metadata": {},
   "outputs": [
    {
     "ename": "",
     "evalue": "",
     "output_type": "error",
     "traceback": [
      "\u001b[1;31mThe Kernel crashed while executing code in the the current cell or a previous cell. Please review the code in the cell(s) to identify a possible cause of the failure. Click <a href='https://aka.ms/vscodeJupyterKernelCrash'>here</a> for more info. View Jupyter <a href='command:jupyter.viewOutput'>log</a> for further details."
     ]
    }
   ],
   "source": [
    "from sklearn.ensemble import RandomForestClassifier\n",
    "model = RandomForestClassifier(n_estimators = 50, random_state = 5)\n",
    "model.fit(X_train, y_train)"
   ]
  },
  {
   "cell_type": "code",
   "execution_count": 4,
   "metadata": {},
   "outputs": [
    {
     "data": {
      "text/plain": [
       "array([12, 15,  3, ..., 12, 12, 18])"
      ]
     },
     "execution_count": 4,
     "metadata": {},
     "output_type": "execute_result"
    }
   ],
   "source": [
    "y_pred = model.predict(X_test)\n",
    "y_pred"
   ]
  },
  {
   "cell_type": "code",
   "execution_count": 5,
   "metadata": {},
   "outputs": [
    {
     "data": {
      "text/plain": [
       "0.19969160466870012"
      ]
     },
     "execution_count": 5,
     "metadata": {},
     "output_type": "execute_result"
    }
   ],
   "source": [
    "from sklearn.metrics import accuracy_score\n",
    "\n",
    "accuracy_score(y_test, y_pred)"
   ]
  }
 ],
 "metadata": {
  "kernelspec": {
   "display_name": "Python 3",
   "language": "python",
   "name": "python3"
  },
  "language_info": {
   "codemirror_mode": {
    "name": "ipython",
    "version": 3
   },
   "file_extension": ".py",
   "mimetype": "text/x-python",
   "name": "python",
   "nbconvert_exporter": "python",
   "pygments_lexer": "ipython3",
   "version": "3.11.4"
  }
 },
 "nbformat": 4,
 "nbformat_minor": 2
}
