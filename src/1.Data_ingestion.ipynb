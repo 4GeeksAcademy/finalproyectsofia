{
 "cells": [
  {
   "cell_type": "markdown",
   "metadata": {},
   "source": [
    "# __1 DATA INGESTION__"
   ]
  },
  {
   "cell_type": "markdown",
   "metadata": {},
   "source": [
    "Lo primero que haremos será importar y guardar el dataset"
   ]
  },
  {
   "cell_type": "code",
   "execution_count": 20,
   "metadata": {},
   "outputs": [
    {
     "name": "stdout",
     "output_type": "stream",
     "text": [
      "       DR_NO               Date Rptd                DATE OCC  TIME OCC  AREA  \\\n",
      "0   10304468  01/08/2020 12:00:00 AM  01/08/2020 12:00:00 AM      2230     3   \n",
      "1  190101086  01/02/2020 12:00:00 AM  01/01/2020 12:00:00 AM       330     1   \n",
      "2  200110444  04/14/2020 12:00:00 AM  02/13/2020 12:00:00 AM      1200     1   \n",
      "3  191501505  01/01/2020 12:00:00 AM  01/01/2020 12:00:00 AM      1730    15   \n",
      "4  191921269  01/01/2020 12:00:00 AM  01/01/2020 12:00:00 AM       415    19   \n",
      "\n",
      "     AREA NAME  Rpt Dist No  Part 1-2  Crm Cd  \\\n",
      "0    Southwest          377         2     624   \n",
      "1      Central          163         2     624   \n",
      "2      Central          155         2     845   \n",
      "3  N Hollywood         1543         2     745   \n",
      "4      Mission         1998         2     740   \n",
      "\n",
      "                                         Crm Cd Desc  ... Status  \\\n",
      "0                           BATTERY - SIMPLE ASSAULT  ...     AO   \n",
      "1                           BATTERY - SIMPLE ASSAULT  ...     IC   \n",
      "2          SEX OFFENDER REGISTRANT OUT OF COMPLIANCE  ...     AA   \n",
      "3           VANDALISM - MISDEAMEANOR ($399 OR UNDER)  ...     IC   \n",
      "4  VANDALISM - FELONY ($400 & OVER, ALL CHURCH VA...  ...     IC   \n",
      "\n",
      "    Status Desc Crm Cd 1 Crm Cd 2  Crm Cd 3 Crm Cd 4  \\\n",
      "0   Adult Other    624.0      NaN       NaN      NaN   \n",
      "1   Invest Cont    624.0      NaN       NaN      NaN   \n",
      "2  Adult Arrest    845.0      NaN       NaN      NaN   \n",
      "3   Invest Cont    745.0    998.0       NaN      NaN   \n",
      "4   Invest Cont    740.0      NaN       NaN      NaN   \n",
      "\n",
      "                                   LOCATION Cross Street      LAT       LON  \n",
      "0   1100 W  39TH                         PL          NaN  34.0141 -118.2978  \n",
      "1    700 S  HILL                         ST          NaN  34.0459 -118.2545  \n",
      "2    200 E  6TH                          ST          NaN  34.0448 -118.2474  \n",
      "3   5400    CORTEEN                      PL          NaN  34.1685 -118.4019  \n",
      "4  14400    TITUS                        ST          NaN  34.2198 -118.4468  \n",
      "\n",
      "[5 rows x 28 columns]\n"
     ]
    }
   ],
   "source": [
    "import pandas as pd\n",
    "data = '../data/raw/crimedataorig.csv'\n",
    "dataframe = pd.read_csv(data)\n",
    "print(dataframe.head(5))"
   ]
  },
  {
   "cell_type": "markdown",
   "metadata": {},
   "source": [
    "Una vez importado lo almacenaremos en una base de datos SQL que nos proporciona una estructura organizada, manejo eficiente y confiable de los datos en aplicaciones y sistemas."
   ]
  },
  {
   "cell_type": "code",
   "execution_count": 21,
   "metadata": {},
   "outputs": [],
   "source": [
    "import pandas as pd\n",
    "from sqlalchemy import create_engine\n",
    "\n",
    "data = '../data/raw/crimedataorig.csv'\n",
    "nombre_tabla = 'CRIMEDATA'\n",
    "ruta_base_datos = '../data/raw/CRIMEDATA.db'\n",
    "dataframe = pd.read_csv(data)\n",
    "engine = create_engine(f'sqlite:///{ruta_base_datos}')\n",
    "dataframe.to_sql(nombre_tabla, engine, index=False, if_exists='replace')\n",
    "\n",
    "# Confirmar y cerrar la conexión\n",
    "engine.dispose()\n"
   ]
  },
  {
   "cell_type": "markdown",
   "metadata": {},
   "source": [
    "Realizamos una consulta Select , para selecionar las 5 primeras filas"
   ]
  },
  {
   "cell_type": "code",
   "execution_count": 22,
   "metadata": {},
   "outputs": [
    {
     "name": "stdout",
     "output_type": "stream",
     "text": [
      "Consulta SELECT:\n",
      "(10304468, '01/08/2020 12:00:00 AM', '01/08/2020 12:00:00 AM', 2230, 3, 'Southwest', 377, 2, 624, 'BATTERY - SIMPLE ASSAULT', '0444 0913', 36, 'F', 'B', 501.0, 'SINGLE FAMILY DWELLING', 400.0, 'STRONG-ARM (HANDS, FIST, FEET OR BODILY FORCE)', 'AO', 'Adult Other', 624.0, None, None, None, '1100 W  39TH                         PL', None, 34.0141, -118.2978)\n",
      "(190101086, '01/02/2020 12:00:00 AM', '01/01/2020 12:00:00 AM', 330, 1, 'Central', 163, 2, 624, 'BATTERY - SIMPLE ASSAULT', '0416 1822 1414', 25, 'M', 'H', 102.0, 'SIDEWALK', 500.0, 'UNKNOWN WEAPON/OTHER WEAPON', 'IC', 'Invest Cont', 624.0, None, None, None, '700 S  HILL                         ST', None, 34.0459, -118.2545)\n",
      "(200110444, '04/14/2020 12:00:00 AM', '02/13/2020 12:00:00 AM', 1200, 1, 'Central', 155, 2, 845, 'SEX OFFENDER REGISTRANT OUT OF COMPLIANCE', '1501', 0, 'X', 'X', 726.0, 'POLICE FACILITY', None, None, 'AA', 'Adult Arrest', 845.0, None, None, None, '200 E  6TH                          ST', None, 34.0448, -118.2474)\n",
      "(191501505, '01/01/2020 12:00:00 AM', '01/01/2020 12:00:00 AM', 1730, 15, 'N Hollywood', 1543, 2, 745, 'VANDALISM - MISDEAMEANOR ($399 OR UNDER)', '0329 1402', 76, 'F', 'W', 502.0, 'MULTI-UNIT DWELLING (APARTMENT, DUPLEX, ETC)', None, None, 'IC', 'Invest Cont', 745.0, 998.0, None, None, '5400    CORTEEN                      PL', None, 34.1685, -118.4019)\n",
      "(191921269, '01/01/2020 12:00:00 AM', '01/01/2020 12:00:00 AM', 415, 19, 'Mission', 1998, 2, 740, 'VANDALISM - FELONY ($400 & OVER, ALL CHURCH VANDALISMS)', '0329', 31, 'X', 'X', 409.0, 'BEAUTY SUPPLY STORE', None, None, 'IC', 'Invest Cont', 740.0, None, None, None, '14400    TITUS                        ST', None, 34.2198, -118.4468)\n"
     ]
    }
   ],
   "source": [
    "import sqlite3\n",
    "\n",
    "conexion = sqlite3.connect('../data/raw/CRIMEDATA.db')\n",
    "cursor = conexion.cursor()\n",
    "\n",
    "query_select = \"SELECT * FROM CRIMEDATA LIMIT 5;\"\n",
    "cursor.execute(query_select)\n",
    "resultados_select = cursor.fetchall()\n",
    "print(\"Consulta SELECT:\")\n",
    "for resultado in resultados_select:\n",
    "    print(resultado)\n",
    "\n",
    "conexion.commit()\n",
    "conexion.close()"
   ]
  },
  {
   "cell_type": "markdown",
   "metadata": {},
   "source": [
    "En tercer lugar vamos a ver localizar posibles duplicados"
   ]
  },
  {
   "cell_type": "code",
   "execution_count": 23,
   "metadata": {},
   "outputs": [
    {
     "name": "stdout",
     "output_type": "stream",
     "text": [
      "0\n"
     ]
    }
   ],
   "source": [
    "print(dataframe.duplicated().sum())\n"
   ]
  },
  {
   "cell_type": "markdown",
   "metadata": {},
   "source": [
    "En nuestro caso , no tenemos duplicados"
   ]
  }
 ],
 "metadata": {
  "kernelspec": {
   "display_name": "Python 3",
   "language": "python",
   "name": "python3"
  },
  "language_info": {
   "codemirror_mode": {
    "name": "ipython",
    "version": 3
   },
   "file_extension": ".py",
   "mimetype": "text/x-python",
   "name": "python",
   "nbconvert_exporter": "python",
   "pygments_lexer": "ipython3",
   "version": "3.11.4"
  }
 },
 "nbformat": 4,
 "nbformat_minor": 2
}
